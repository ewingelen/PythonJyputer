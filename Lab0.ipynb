{
 "cells": [
  {
   "cell_type": "markdown",
   "id": "57109b40-481d-4c0b-8319-29883f559d0d",
   "metadata": {},
   "source": [
    "# Інформація про Йорданію\n",
    "\n",
    "<div style=\"border: 3px solid #535353\">\n",
    "<a href=\"https://uk.wikipedia.org/wiki/Йорданія\">Йорданія (офіційнqо Хашимітське Королівство Йорданія) — країна на Близькому Сході,  розташована на перехресті важливих торгових шляхів і культурних зв'язків між Європою, Азією та Африкою.</a>\n",
    "</div>\n",
    "\n",
    "## Основні відомості\n",
    "\n",
    "| Параметр          | Значення          |\n",
    "|-------------------|-------------------|\n",
    "| Площа             | 89,342 км²        |\n",
    "| Населення         | 10,5 млн осіб     |\n",
    "| Столиця           | Амман             |\n",
    "| Офіційна мова     | Арабська          |\n",
    "| Валюта            | Йорданський динар |\n",
    "\n",
    "## Державний устрій\n",
    "\n",
    "Йорданія є <span style=\"color: red\">конституційною монархією</span> з парламентською системою. Король є главою держави і має широкі повноваження, включаючи право призначати уряд, а також вплив на законодавчі ініціативи.\n",
    "\n",
    "## Видатні персоналії\n",
    "\n",
    "1. **Король Абдалла II** – сучасний правитель Йорданії, король з 1999 року.\n",
    "2. **Тарік аль-Файсал** – політичний діяч, колишній голова розвідувальних служб Йорданії.\n",
    "3. **Мая Зайед** – відома йорданська активістка, яка бореться за права жінок.\n",
    "\n",
    "## Пам’ятки культури та природи\n",
    "\n",
    "- **Петра** – стародавнє місто, яке є одним з нових чудес світу. \n",
    "  ![Петра](https://encrypted-tbn0.gstatic.com/licensed-image?q=tbn:ANd9GcTdkz4XdJ8wa5R2pljQhMwMXfHZHhdKXJ72HpESwkLqH-qJGW29P4BIWmf7nycBhEGXa-j8IbSQ8orchLu7SXSnZtgnxoXTG62KFQSX_Q)\n",
    "  *Петра — одне з найбільш відомих археологічних місць в Йорданії.*\n",
    "\n",
    "- **Ваді-Рум** – долина в пустелі, яка відома своїми величезними скельними утвореннями і є популярним туристичним напрямком.\n",
    "  ![Ваді-Рум](./vadi-rum.jpeg)\n",
    "\n",
    "### Мова\n",
    "\n",
    "Офіційною мовою в Йорданії є <span style=\"color: green\">арабська</span>.\n",
    "\n",
    "### Релігія\n",
    "\n",
    "- **Іслам** — більшість населення є мусульманами (переважно суніти).\n",
    "- **Християнство** — є меншістю в Йорданії, але країна має кілька християнських святинь.\n",
    "\n",
    "### Географія Йорданії\n",
    "\n",
    "Йорданія межує з кількома країнами:\n",
    "\n",
    "- **Ізраїль** на заході\n",
    "    - **Сирія** на півночі\n",
    "        - **Ірак** на сході\n",
    "            - **Саудівська Аравія** на південному сході"
   ]
  },
  {
   "cell_type": "code",
   "execution_count": 114,
   "id": "0aba7eba-13a6-43ff-aaf8-ccff690fa83a",
   "metadata": {},
   "outputs": [
    {
     "data": {
      "text/html": [
       "<svg xmlns=\"http://www.w3.org/2000/svg\" viewBox=\"0 0 900 540\">\n",
       "  <rect x=\"0\" y=\"0\" width=\"900\" height=\"180\" fill=\"#000000\"/>\n",
       "  <rect x=\"0\" y=\"180\" width=\"900\" height=\"180\" fill=\"#FFFFFF\"/>\n",
       "  <rect x=\"0\" y=\"360\" width=\"900\" height=\"180\" fill=\"#137E43\"/>\n",
       "  \n",
       "  <polygon points=\"0,0 0,540 400,270\" fill=\"#D01D2E\"/>\n",
       "  <polygon points=\"40,265 106,248 72,192 129,226 145,160 160,226 215,192 183,248 250,265 182,280 216,336 160,302 145,370 128,302 72,335 105,280\" fill=\"#FFFFFF\"/>\n",
       "</svg>\n"
      ],
      "text/plain": [
       "<IPython.core.display.HTML object>"
      ]
     },
     "metadata": {},
     "output_type": "display_data"
    }
   ],
   "source": [
    "%%HTML\n",
    "<svg xmlns=\"http://www.w3.org/2000/svg\" viewBox=\"0 0 900 540\">\n",
    "  <rect x=\"0\" y=\"0\" width=\"900\" height=\"180\" fill=\"#000000\"/>\n",
    "  <rect x=\"0\" y=\"180\" width=\"900\" height=\"180\" fill=\"#FFFFFF\"/>\n",
    "  <rect x=\"0\" y=\"360\" width=\"900\" height=\"180\" fill=\"#137E43\"/>\n",
    "  \n",
    "  <polygon points=\"0,0 0,540 400,270\" fill=\"#D01D2E\"/>\n",
    "  <polygon points=\"40,265 106,248 72,192 129,226 145,160 160,226 215,192 183,248 250,265 182,280 216,336 160,302 145,370 128,302 72,335 105,280\" fill=\"#FFFFFF\"/>\n",
    "</svg>"
   ]
  },
  {
   "cell_type": "code",
   "execution_count": 136,
   "id": "2aa8da95-bb47-4f3f-bcba-87db4ec04a6e",
   "metadata": {},
   "outputs": [
    {
     "name": "stdout",
     "output_type": "stream",
     "text": [
      "Прості числа на відрізку [10, 50]: [11, 13, 17, 19, 23, 29, 31, 37, 41, 43, 47]\n",
      "Прості числа на відрізку [1, 30]: [2, 3, 5, 7, 11, 13, 17, 19, 23, 29]\n",
      "Прості числа на відрізку [20, 70]: [23, 29, 31, 37, 41, 43, 47, 53, 59, 61, 67]\n"
     ]
    }
   ],
   "source": [
    "def is_prime(n):\n",
    "    if n <= 1:\n",
    "        return False\n",
    "    for i in range(2, n):\n",
    "        if n % i == 0:\n",
    "            return False\n",
    "    return True\n",
    "\n",
    "def find_primes_in_range(a, b):\n",
    "    if a > b:\n",
    "        raise ValueError(\"Число a має бути меншим або рівним числу b.\")\n",
    "    \n",
    "    if a < 0 or b < 0:\n",
    "        raise ValueError(\"Числа a та b повинні бути невід'ємними.\")\n",
    "    \n",
    "    primes = []\n",
    "    \n",
    "    for num in range(a, b + 1):\n",
    "        if is_prime(num):\n",
    "            primes.append(num)\n",
    "            \n",
    "    return primes\n",
    "\n",
    "try:\n",
    "    a, b = 10, 50\n",
    "    primes = find_primes_in_range(a, b)\n",
    "    print(f\"Прості числа на відрізку [{a}, {b}]: {primes}\")\n",
    "    \n",
    "    a, b = 1, 30\n",
    "    primes = find_primes_in_range(a, b)\n",
    "    print(f\"Прості числа на відрізку [{a}, {b}]: {primes}\")\n",
    "    \n",
    "    a, b = 20, 70\n",
    "    primes = find_primes_in_range(a, b)\n",
    "    print(f\"Прості числа на відрізку [{a}, {b}]: {primes}\")\n",
    "    \n",
    "except ValueError as e:\n",
    "    print(e)"
   ]
  },
  {
   "cell_type": "code",
   "execution_count": null,
   "id": "742afa3f-b409-4f7b-8cd3-1abb2c4a9aeb",
   "metadata": {},
   "outputs": [],
   "source": []
  }
 ],
 "metadata": {
  "kernelspec": {
   "display_name": "Python 3 (ipykernel)",
   "language": "python",
   "name": "python3"
  },
  "language_info": {
   "codemirror_mode": {
    "name": "ipython",
    "version": 3
   },
   "file_extension": ".py",
   "mimetype": "text/x-python",
   "name": "python",
   "nbconvert_exporter": "python",
   "pygments_lexer": "ipython3",
   "version": "3.13.0"
  }
 },
 "nbformat": 4,
 "nbformat_minor": 5
}
